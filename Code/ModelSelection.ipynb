{
 "cells": [
  {
   "cell_type": "markdown",
   "metadata": {},
   "source": [
    "# Imports "
   ]
  },
  {
   "cell_type": "code",
   "execution_count": 37,
   "metadata": {},
   "outputs": [],
   "source": [
    "import pandas as pd\n",
    "import numpy as np \n",
    "import matplotlib.pyplot as plt\n",
    "import seaborn as sns\n",
    "import dataframe_image as dfi\n",
    "\n",
    "\n",
    "from sklearn.linear_model import Ridge, Lasso, LassoCV, LinearRegression\n",
    "from sklearn.model_selection import train_test_split, cross_val_predict, cross_val_score\n",
    "from sklearn.preprocessing import StandardScaler, PolynomialFeatures\n",
    "from sklearn.metrics import r2_score, mean_squared_error\n",
    "\n",
    "\n",
    "from sklearn.pipeline import Pipeline"
   ]
  },
  {
   "cell_type": "code",
   "execution_count": 3,
   "metadata": {},
   "outputs": [],
   "source": [
    "df = pd.read_csv('../datasets/Clean_Train.csv')"
   ]
  },
  {
   "cell_type": "markdown",
   "metadata": {},
   "source": [
    "# Model Experimentation"
   ]
  },
  {
   "cell_type": "markdown",
   "metadata": {},
   "source": [
    "Now that we have a simple linear model working, let's try a few things different to see if we can improve. We are going to Use Poly Features and Ridge Regression to see how things turn out!"
   ]
  },
  {
   "cell_type": "markdown",
   "metadata": {},
   "source": [
    "# Train Model "
   ]
  },
  {
   "cell_type": "markdown",
   "metadata": {},
   "source": [
    "## Poly Features"
   ]
  },
  {
   "cell_type": "markdown",
   "metadata": {},
   "source": [
    "First we create a test and train population using test train split and creat X and for our features and target!"
   ]
  },
  {
   "cell_type": "code",
   "execution_count": 10,
   "metadata": {},
   "outputs": [],
   "source": [
    "# Create X,y Variables\n",
    "features = [col for col in df if col != 'SalePrice']\n",
    "X = df[features]\n",
    "y = df.SalePrice\n",
    "\n",
    "\n",
    "# Create Test and Train Samples\n",
    "X_train,X_test,y_train,y_test = train_test_split(X,y, random_state = 42)"
   ]
  },
  {
   "cell_type": "markdown",
   "metadata": {},
   "source": [
    "Now we will create a pipeling to transform out model through PolyFeatures and Standard Scaler before fitting it to a LinearRegression estimator. "
   ]
  },
  {
   "cell_type": "code",
   "execution_count": 35,
   "metadata": {},
   "outputs": [
    {
     "data": {
      "text/plain": [
       "Pipeline(steps=[('scale', StandardScaler()), ('poly', PolynomialFeatures()),\n",
       "                ('linreg', LinearRegression())])"
      ]
     },
     "execution_count": 35,
     "metadata": {},
     "output_type": "execute_result"
    }
   ],
   "source": [
    "linereg_pipe = Pipeline([('scale', StandardScaler()),\n",
    "                         ('poly', PolynomialFeatures()),\n",
    "                         ('linreg', LinearRegression())])\n",
    "\n",
    "linereg_pipe.fit(X_train,y_train)"
   ]
  },
  {
   "cell_type": "code",
   "execution_count": 36,
   "metadata": {},
   "outputs": [
    {
     "name": "stdout",
     "output_type": "stream",
     "text": [
      "Train Score: 0.7374142701775539\n",
      "Test Score: 0.755808026067705\n"
     ]
    }
   ],
   "source": [
    "train_score = linereg_pipe.score(X_train,y_train)\n",
    "test_score = linereg_pipe.score(X_test,y_test)\n",
    "\n",
    "print(f'''Train Score: {train_score}\n",
    "Test Score: {test_score}''')"
   ]
  },
  {
   "cell_type": "markdown",
   "metadata": {},
   "source": [
    "Our new Poly Feature Model is doing better on testing information than training information! this is excellent ! Our R2 score is still a ways off from where we want it to be but our model is getting better."
   ]
  },
  {
   "cell_type": "code",
   "execution_count": 34,
   "metadata": {},
   "outputs": [
    {
     "data": {
      "image/png": "[encoded data removed]",
      "text/plain": [
       "<Figure size 432x288 with 1 Axes>"
      ]
     },
     "metadata": {
      "needs_background": "light"
     },
     "output_type": "display_data"
    }
   ],
   "source": [
    "fig, ax = plt.subplots()\n",
    "plt.scatter(linereg_pipe.predict(X_train) , y_train ,label = 'Train');\n",
    "plt.scatter(linereg_pipe.predict(X_test) , y_test, label = 'Test');\n",
    "\n",
    "plt.ylim(0,500_000)\n",
    "plt.xlim(0,500_000)\n",
    "plt.xlabel('Predictions')\n",
    "plt.ylabel('Reality')\n",
    "plt.legend()\n",
    "plt.title('Predictions Vs Reality');\n"
   ]
  },
  {
   "cell_type": "markdown",
   "metadata": {},
   "source": [
    "## Ridge Regression "
   ]
  },
  {
   "cell_type": "markdown",
   "metadata": {},
   "source": [
    "Below we experimented with Ridge Regression, but the results do not give us any reason to use this model over a simple linear one at this time. We will continue to test this model as we add new features."
   ]
  },
  {
   "cell_type": "code",
   "execution_count": 38,
   "metadata": {},
   "outputs": [
    {
     "data": {
      "text/plain": [
       "Pipeline(steps=[('scale', StandardScaler()), ('poly', PolynomialFeatures()),\n",
       "                ('Ridge', Ridge())])"
      ]
     },
     "execution_count": 38,
     "metadata": {},
     "output_type": "execute_result"
    }
   ],
   "source": [
    "linereg_Ridge = Pipeline([('scale', StandardScaler()),\n",
    "                         ('poly', PolynomialFeatures()),\n",
    "                         ('Ridge', Ridge())])\n",
    "\n",
    "linereg_Ridge.fit(X_train,y_train)"
   ]
  },
  {
   "cell_type": "code",
   "execution_count": 41,
   "metadata": {},
   "outputs": [
    {
     "name": "stdout",
     "output_type": "stream",
     "text": [
      "Ridge Train Score: 0.7374138413351895\n",
      "Ridge Test Score: 0.7559269459731397\n"
     ]
    }
   ],
   "source": [
    "ridge_train_score = linereg_Ridge.score(X_train,y_train)\n",
    "ridge_test_score = linereg_Ridge.score(X_test,y_test)\n",
    "\n",
    "\n",
    "print(f'''Ridge Train Score: {ridge_train_score}\n",
    "Ridge Test Score: {ridge_test_score}''')"
   ]
  },
  {
   "cell_type": "markdown",
   "metadata": {},
   "source": [
    "# Predictions"
   ]
  },
  {
   "cell_type": "code",
   "execution_count": null,
   "metadata": {},
   "outputs": [],
   "source": [
    "# Read in the Dataframe\n",
    "test_csv = pd.read_csv('../datasets/Clean_Test.csv')"
   ]
  },
  {
   "cell_type": "code",
   "execution_count": null,
   "metadata": {},
   "outputs": [],
   "source": [
    "# select the features from our Test CSV that match the features in our model\n",
    "features = [col for col in test_csv if col != 'Id']\n",
    "\n",
    "# assign those features to test_X\n",
    "test_X = test_csv[features]\n",
    "        \n",
    "\n",
    "# Scale the Test data to match or model\n",
    "test_X = SS.fit_transform(test_X)\n",
    "\n",
    "# create variable to store predictions\n",
    "sub_pred = linreg.predict(test_X)"
   ]
  },
  {
   "cell_type": "code",
   "execution_count": null,
   "metadata": {},
   "outputs": [],
   "source": [
    "# Create Dataframe of predictions and ID#\n",
    "submission_predictions = pd.DataFrame(sub_pred, index = test_csv['Id'])"
   ]
  }
 ],
 "metadata": {
  "kernelspec": {
   "display_name": "Python 3",
   "language": "python",
   "name": "python3"
  },
  "language_info": {
   "codemirror_mode": {
    "name": "ipython",
    "version": 3
   },
   "file_extension": ".py",
   "mimetype": "text/x-python",
   "name": "python",
   "nbconvert_exporter": "python",
   "pygments_lexer": "ipython3",
   "version": "3.8.8"
  }
 },
 "nbformat": 4,
 "nbformat_minor": 4
}
