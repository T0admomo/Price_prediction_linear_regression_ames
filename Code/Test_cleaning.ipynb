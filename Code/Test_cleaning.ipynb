{
 "cells": [
  {
   "cell_type": "markdown",
   "metadata": {},
   "source": [
    "We will begin by setting out Imports and reading in our dataset "
   ]
  },
  {
   "cell_type": "code",
   "execution_count": 18,
   "metadata": {},
   "outputs": [],
   "source": [
    "import numpy as np \n",
    "import pandas as pd \n",
    "import seaborn as sns \n",
    "import matplotlib.pyplot as plt\n",
    "\n",
    "from sklearn.metrics import r2_score\n",
    "from sklearn.model_selection import train_test_split , cross_val_score\n",
    "from sklearn.linear_model import LinearRegression , LassoCV , RidgeCV"
   ]
  },
  {
   "cell_type": "code",
   "execution_count": 19,
   "metadata": {},
   "outputs": [],
   "source": [
    "df = pd.read_csv('../datasets/test.csv')"
   ]
  },
  {
   "cell_type": "code",
   "execution_count": 20,
   "metadata": {},
   "outputs": [],
   "source": [
    "# lets make the names pythonic\n",
    "df.columns = df.columns.str.replace(\" \",\"_\")"
   ]
  },
  {
   "cell_type": "code",
   "execution_count": 21,
   "metadata": {},
   "outputs": [
    {
     "data": {
      "text/plain": [
       "Index(['Id', 'PID', 'MS_SubClass', 'MS_Zoning', 'Lot_Frontage', 'Lot_Area',\n",
       "       'Street', 'Alley', 'Lot_Shape', 'Land_Contour', 'Utilities',\n",
       "       'Lot_Config', 'Land_Slope', 'Neighborhood', 'Condition_1',\n",
       "       'Condition_2', 'Bldg_Type', 'House_Style', 'Overall_Qual',\n",
       "       'Overall_Cond', 'Year_Built', 'Year_Remod/Add', 'Roof_Style',\n",
       "       'Roof_Matl', 'Exterior_1st', 'Exterior_2nd', 'Mas_Vnr_Type',\n",
       "       'Mas_Vnr_Area', 'Exter_Qual', 'Exter_Cond', 'Foundation', 'Bsmt_Qual',\n",
       "       'Bsmt_Cond', 'Bsmt_Exposure', 'BsmtFin_Type_1', 'BsmtFin_SF_1',\n",
       "       'BsmtFin_Type_2', 'BsmtFin_SF_2', 'Bsmt_Unf_SF', 'Total_Bsmt_SF',\n",
       "       'Heating', 'Heating_QC', 'Central_Air', 'Electrical', '1st_Flr_SF',\n",
       "       '2nd_Flr_SF', 'Low_Qual_Fin_SF', 'Gr_Liv_Area', 'Bsmt_Full_Bath',\n",
       "       'Bsmt_Half_Bath', 'Full_Bath', 'Half_Bath', 'Bedroom_AbvGr',\n",
       "       'Kitchen_AbvGr', 'Kitchen_Qual', 'TotRms_AbvGrd', 'Functional',\n",
       "       'Fireplaces', 'Fireplace_Qu', 'Garage_Type', 'Garage_Yr_Blt',\n",
       "       'Garage_Finish', 'Garage_Cars', 'Garage_Area', 'Garage_Qual',\n",
       "       'Garage_Cond', 'Paved_Drive', 'Wood_Deck_SF', 'Open_Porch_SF',\n",
       "       'Enclosed_Porch', '3Ssn_Porch', 'Screen_Porch', 'Pool_Area', 'Pool_QC',\n",
       "       'Fence', 'Misc_Feature', 'Misc_Val', 'Mo_Sold', 'Yr_Sold', 'Sale_Type'],\n",
       "      dtype='object')"
      ]
     },
     "execution_count": 21,
     "metadata": {},
     "output_type": "execute_result"
    }
   ],
   "source": [
    "df.columns"
   ]
  },
  {
   "cell_type": "markdown",
   "metadata": {},
   "source": [
    "# CLEANING"
   ]
  },
  {
   "cell_type": "markdown",
   "metadata": {},
   "source": [
    "Looking at the size of our dataset we elected to narrow the feature our model incorporates down to those we feel will be most predictive. We can come back here latter to add new feature from our original DF to our working copy in the new_df."
   ]
  },
  {
   "cell_type": "code",
   "execution_count": 22,
   "metadata": {},
   "outputs": [],
   "source": [
    "# Dataframe of features we selected\n",
    "new_df = df[['Lot_Area','1st_Flr_SF','2nd_Flr_SF',\n",
    "             'Total_Bsmt_SF',\n",
    "             'Central_Air','Id','Garage_Area',\n",
    "             'BsmtFin_SF_2','BsmtFin_SF_1']].copy()\n",
    "\n",
    "#Set index to house ID for submission format\n",
    "new_df.set_index('Id', inplace = True)"
   ]
  },
  {
   "cell_type": "markdown",
   "metadata": {},
   "source": [
    "Now we need to Create a column for Sq_ft from the 3 columns we have pertaining to that value."
   ]
  },
  {
   "cell_type": "code",
   "execution_count": 23,
   "metadata": {},
   "outputs": [],
   "source": [
    "# Creating a feature for Total Sq feet \n",
    "\n",
    "new_df['Sq_ft'] = new_df['1st_Flr_SF'] + new_df['2nd_Flr_SF'] + new_df['Total_Bsmt_SF']"
   ]
  },
  {
   "cell_type": "code",
   "execution_count": 24,
   "metadata": {},
   "outputs": [
    {
     "data": {
      "text/html": [
       "<div>\n",
       "<style scoped>\n",
       "    .dataframe tbody tr th:only-of-type {\n",
       "        vertical-align: middle;\n",
       "    }\n",
       "\n",
       "    .dataframe tbody tr th {\n",
       "        vertical-align: top;\n",
       "    }\n",
       "\n",
       "    .dataframe thead th {\n",
       "        text-align: right;\n",
       "    }\n",
       "</style>\n",
       "<table border=\"1\" class=\"dataframe\">\n",
       "  <thead>\n",
       "    <tr style=\"text-align: right;\">\n",
       "      <th></th>\n",
       "      <th>Lot_Area</th>\n",
       "      <th>Central_Air</th>\n",
       "      <th>Garage_Area</th>\n",
       "      <th>BsmtFin_SF_2</th>\n",
       "      <th>BsmtFin_SF_1</th>\n",
       "      <th>Sq_ft</th>\n",
       "    </tr>\n",
       "    <tr>\n",
       "      <th>Id</th>\n",
       "      <th></th>\n",
       "      <th></th>\n",
       "      <th></th>\n",
       "      <th></th>\n",
       "      <th></th>\n",
       "      <th></th>\n",
       "    </tr>\n",
       "  </thead>\n",
       "  <tbody>\n",
       "    <tr>\n",
       "      <th>2658</th>\n",
       "      <td>9142</td>\n",
       "      <td>N</td>\n",
       "      <td>440</td>\n",
       "      <td>0</td>\n",
       "      <td>0</td>\n",
       "      <td>2948</td>\n",
       "    </tr>\n",
       "    <tr>\n",
       "      <th>2718</th>\n",
       "      <td>9662</td>\n",
       "      <td>Y</td>\n",
       "      <td>580</td>\n",
       "      <td>0</td>\n",
       "      <td>0</td>\n",
       "      <td>3934</td>\n",
       "    </tr>\n",
       "    <tr>\n",
       "      <th>2414</th>\n",
       "      <td>17104</td>\n",
       "      <td>Y</td>\n",
       "      <td>426</td>\n",
       "      <td>0</td>\n",
       "      <td>554</td>\n",
       "      <td>2150</td>\n",
       "    </tr>\n",
       "    <tr>\n",
       "      <th>1989</th>\n",
       "      <td>8520</td>\n",
       "      <td>Y</td>\n",
       "      <td>480</td>\n",
       "      <td>0</td>\n",
       "      <td>0</td>\n",
       "      <td>1936</td>\n",
       "    </tr>\n",
       "    <tr>\n",
       "      <th>625</th>\n",
       "      <td>9500</td>\n",
       "      <td>Y</td>\n",
       "      <td>514</td>\n",
       "      <td>0</td>\n",
       "      <td>609</td>\n",
       "      <td>2788</td>\n",
       "    </tr>\n",
       "  </tbody>\n",
       "</table>\n",
       "</div>"
      ],
      "text/plain": [
       "      Lot_Area Central_Air  Garage_Area  BsmtFin_SF_2  BsmtFin_SF_1  Sq_ft\n",
       "Id                                                                        \n",
       "2658      9142           N          440             0             0   2948\n",
       "2718      9662           Y          580             0             0   3934\n",
       "2414     17104           Y          426             0           554   2150\n",
       "1989      8520           Y          480             0             0   1936\n",
       "625       9500           Y          514             0           609   2788"
      ]
     },
     "execution_count": 24,
     "metadata": {},
     "output_type": "execute_result"
    }
   ],
   "source": [
    "# Dropping the Original columns used to make Sq_ft\n",
    "\n",
    "new_df.drop(columns = ['1st_Flr_SF','2nd_Flr_SF','Total_Bsmt_SF'], inplace = True)\n",
    "new_df.head()"
   ]
  },
  {
   "cell_type": "code",
   "execution_count": 25,
   "metadata": {},
   "outputs": [],
   "source": [
    "# DO NOT RUN ME TWICE\n",
    "\n",
    "\n",
    "# Making our HasCentral Air a binary column \n",
    "new_df.Central_Air = np.where(new_df.Central_Air == 'Y',1,0)\n"
   ]
  },
  {
   "cell_type": "code",
   "execution_count": 26,
   "metadata": {},
   "outputs": [],
   "source": [
    "# ADD NEW DROPS OR FILTERS HERE \n",
    "\n",
    "\n",
    "\n",
    "\n"
   ]
  },
  {
   "cell_type": "code",
   "execution_count": null,
   "metadata": {},
   "outputs": [],
   "source": []
  },
  {
   "cell_type": "markdown",
   "metadata": {},
   "source": [
    "# Features"
   ]
  },
  {
   "cell_type": "markdown",
   "metadata": {},
   "source": [
    "## Has_Garage"
   ]
  },
  {
   "cell_type": "markdown",
   "metadata": {},
   "source": [
    "Has Garage True/False"
   ]
  },
  {
   "cell_type": "code",
   "execution_count": 27,
   "metadata": {},
   "outputs": [],
   "source": [
    "# Lets make a column for Has_Garage\n",
    "new_df['Has_Garage'] = np.where(new_df.Garage_Area > 0.0 , 1, 0)\n",
    "\n",
    "# and drop the garage Sq ft column\n",
    "new_df.drop(columns = ['Garage_Area'], inplace = True)"
   ]
  },
  {
   "cell_type": "markdown",
   "metadata": {},
   "source": [
    "## Large_Lot"
   ]
  },
  {
   "cell_type": "code",
   "execution_count": 28,
   "metadata": {},
   "outputs": [],
   "source": [
    "new_df['Large_Lot'] = np.where(new_df['Lot_Area'] > 12_000, 1, 0)"
   ]
  },
  {
   "cell_type": "markdown",
   "metadata": {},
   "source": [
    "## Finished_Basement"
   ]
  },
  {
   "cell_type": "code",
   "execution_count": 29,
   "metadata": {},
   "outputs": [],
   "source": [
    "# one for houses with finished basements\n",
    "# first lets make a column for whether or not a home has a finsihed basement\n",
    "\n",
    "# we need to ass the two measure of finished basements together \n",
    "new_df['fin_base_sqft'] =  new_df['BsmtFin_SF_2'] + new_df['BsmtFin_SF_1']\n",
    "\n",
    "# make column for if basement if fisnished \n",
    "new_df['Finished_Basement'] = np.where(new_df['fin_base_sqft'] > 0.0 , 1,0)"
   ]
  },
  {
   "cell_type": "code",
   "execution_count": 30,
   "metadata": {},
   "outputs": [],
   "source": [
    "# Drop the two measures of finished basement\n",
    "new_df.drop(columns = ['BsmtFin_SF_2','BsmtFin_SF_1','fin_base_sqft'],inplace = True)"
   ]
  },
  {
   "cell_type": "markdown",
   "metadata": {},
   "source": [
    "# Export"
   ]
  },
  {
   "cell_type": "code",
   "execution_count": 31,
   "metadata": {},
   "outputs": [
    {
     "data": {
      "text/html": [
       "<div>\n",
       "<style scoped>\n",
       "    .dataframe tbody tr th:only-of-type {\n",
       "        vertical-align: middle;\n",
       "    }\n",
       "\n",
       "    .dataframe tbody tr th {\n",
       "        vertical-align: top;\n",
       "    }\n",
       "\n",
       "    .dataframe thead th {\n",
       "        text-align: right;\n",
       "    }\n",
       "</style>\n",
       "<table border=\"1\" class=\"dataframe\">\n",
       "  <thead>\n",
       "    <tr style=\"text-align: right;\">\n",
       "      <th></th>\n",
       "      <th>Lot_Area</th>\n",
       "      <th>Central_Air</th>\n",
       "      <th>Sq_ft</th>\n",
       "      <th>Has_Garage</th>\n",
       "      <th>Large_Lot</th>\n",
       "      <th>Finished_Basement</th>\n",
       "    </tr>\n",
       "    <tr>\n",
       "      <th>Id</th>\n",
       "      <th></th>\n",
       "      <th></th>\n",
       "      <th></th>\n",
       "      <th></th>\n",
       "      <th></th>\n",
       "      <th></th>\n",
       "    </tr>\n",
       "  </thead>\n",
       "  <tbody>\n",
       "    <tr>\n",
       "      <th>2658</th>\n",
       "      <td>9142</td>\n",
       "      <td>0</td>\n",
       "      <td>2948</td>\n",
       "      <td>1</td>\n",
       "      <td>0</td>\n",
       "      <td>0</td>\n",
       "    </tr>\n",
       "    <tr>\n",
       "      <th>2718</th>\n",
       "      <td>9662</td>\n",
       "      <td>1</td>\n",
       "      <td>3934</td>\n",
       "      <td>1</td>\n",
       "      <td>0</td>\n",
       "      <td>0</td>\n",
       "    </tr>\n",
       "    <tr>\n",
       "      <th>2414</th>\n",
       "      <td>17104</td>\n",
       "      <td>1</td>\n",
       "      <td>2150</td>\n",
       "      <td>1</td>\n",
       "      <td>1</td>\n",
       "      <td>1</td>\n",
       "    </tr>\n",
       "    <tr>\n",
       "      <th>1989</th>\n",
       "      <td>8520</td>\n",
       "      <td>1</td>\n",
       "      <td>1936</td>\n",
       "      <td>1</td>\n",
       "      <td>0</td>\n",
       "      <td>0</td>\n",
       "    </tr>\n",
       "    <tr>\n",
       "      <th>625</th>\n",
       "      <td>9500</td>\n",
       "      <td>1</td>\n",
       "      <td>2788</td>\n",
       "      <td>1</td>\n",
       "      <td>0</td>\n",
       "      <td>1</td>\n",
       "    </tr>\n",
       "  </tbody>\n",
       "</table>\n",
       "</div>"
      ],
      "text/plain": [
       "      Lot_Area  Central_Air  Sq_ft  Has_Garage  Large_Lot  Finished_Basement\n",
       "Id                                                                          \n",
       "2658      9142            0   2948           1          0                  0\n",
       "2718      9662            1   3934           1          0                  0\n",
       "2414     17104            1   2150           1          1                  1\n",
       "1989      8520            1   1936           1          0                  0\n",
       "625       9500            1   2788           1          0                  1"
      ]
     },
     "execution_count": 31,
     "metadata": {},
     "output_type": "execute_result"
    }
   ],
   "source": [
    "new_df.head()"
   ]
  },
  {
   "cell_type": "code",
   "execution_count": 32,
   "metadata": {},
   "outputs": [],
   "source": [
    "# we still need to add the house id # as index \n",
    "new_df.to_csv('../datasets/Clean_Test.csv')"
   ]
  },
  {
   "cell_type": "code",
   "execution_count": 33,
   "metadata": {},
   "outputs": [
    {
     "data": {
      "text/plain": [
       "(878, 6)"
      ]
     },
     "execution_count": 33,
     "metadata": {},
     "output_type": "execute_result"
    }
   ],
   "source": [
    "new_df.shape"
   ]
  },
  {
   "cell_type": "code",
   "execution_count": null,
   "metadata": {},
   "outputs": [],
   "source": []
  }
 ],
 "metadata": {
  "kernelspec": {
   "display_name": "Python 3",
   "language": "python",
   "name": "python3"
  },
  "language_info": {
   "codemirror_mode": {
    "name": "ipython",
    "version": 3
   },
   "file_extension": ".py",
   "mimetype": "text/x-python",
   "name": "python",
   "nbconvert_exporter": "python",
   "pygments_lexer": "ipython3",
   "version": "3.8.5"
  }
 },
 "nbformat": 4,
 "nbformat_minor": 4
}
